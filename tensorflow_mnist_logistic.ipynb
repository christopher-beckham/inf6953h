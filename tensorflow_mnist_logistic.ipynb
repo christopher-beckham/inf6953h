{
 "cells": [
  {
   "cell_type": "markdown",
   "metadata": {},
   "source": [
    "## MNIST logistic regression in TensorFlow"
   ]
  },
  {
   "cell_type": "markdown",
   "metadata": {},
   "source": [
    "Code based on: https://github.com/aymericdamien/TensorFlow-Examples/blob/master/examples/2_BasicModels/logistic_regression.py"
   ]
  },
  {
   "cell_type": "code",
   "execution_count": 38,
   "metadata": {
    "collapsed": true
   },
   "outputs": [],
   "source": [
    "import sys\n",
    "import os\n",
    "import time\n",
    "import numpy as np\n",
    "import tensorflow as tf\n",
    "import matplotlib.pyplot as plt\n",
    "%matplotlib inline"
   ]
  },
  {
   "cell_type": "markdown",
   "metadata": {},
   "source": [
    "### Data loading functions"
   ]
  },
  {
   "cell_type": "code",
   "execution_count": 2,
   "metadata": {
    "collapsed": true
   },
   "outputs": [],
   "source": [
    "# courtesy of f0k:\n",
    "# https://gist.github.com/f0k/738fa2eedd9666b78404ed1751336f56\n",
    "def load_dataset():\n",
    "    # We first define a download function, supporting both Python 2 and 3.\n",
    "    if sys.version_info[0] == 2:\n",
    "        from urllib import urlretrieve\n",
    "    else:\n",
    "        from urllib.request import urlretrieve\n",
    "\n",
    "    def download(filename, source='http://yann.lecun.com/exdb/mnist/'):\n",
    "        print(\"Downloading %s\" % filename)\n",
    "        urlretrieve(source + filename, filename)\n",
    "\n",
    "    # We then define functions for loading MNIST images and labels.\n",
    "    # For convenience, they also download the requested files if needed.\n",
    "    import gzip\n",
    "\n",
    "    def load_mnist_images(filename):\n",
    "        if not os.path.exists(filename):\n",
    "            download(filename)\n",
    "        # Read the inputs in Yann LeCun's binary format.\n",
    "        with gzip.open(filename, 'rb') as f:\n",
    "            data = np.frombuffer(f.read(), np.uint8, offset=16)\n",
    "        # The inputs are vectors now, we reshape them to monochrome 2D images,\n",
    "        # following the shape convention: (examples, channels, rows, columns)\n",
    "        data = data.reshape(-1, 1, 28, 28)\n",
    "        # The inputs come as bytes, we convert them to float32 in range [0,1].\n",
    "        # (Actually to range [0, 255/256], for compatibility to the version\n",
    "        # provided at http://deeplearning.net/data/mnist/mnist.pkl.gz.)\n",
    "        return data / np.float32(256)\n",
    "\n",
    "    def load_mnist_labels(filename):\n",
    "        if not os.path.exists(filename):\n",
    "            download(filename)\n",
    "        # Read the labels in Yann LeCun's binary format.\n",
    "        with gzip.open(filename, 'rb') as f:\n",
    "            data = np.frombuffer(f.read(), np.uint8, offset=8)\n",
    "        # The labels are vectors of integers now, that's exactly what we want.\n",
    "        return data\n",
    "\n",
    "    # We can now download and read the training and test set images and labels.\n",
    "    X_train = load_mnist_images('train-images-idx3-ubyte.gz')\n",
    "    y_train = load_mnist_labels('train-labels-idx1-ubyte.gz')\n",
    "    X_test = load_mnist_images('t10k-images-idx3-ubyte.gz')\n",
    "    y_test = load_mnist_labels('t10k-labels-idx1-ubyte.gz')\n",
    "\n",
    "    # We reserve the last 10000 training examples for validation.\n",
    "    X_train, X_val = X_train[:-10000], X_train[-10000:]\n",
    "    y_train, y_val = y_train[:-10000], y_train[-10000:]\n",
    "\n",
    "    # We just return all the arrays in order, as expected in main().\n",
    "    # (It doesn't matter how we do this as long as we can read them again.)\n",
    "    return X_train, y_train, X_val, y_val, X_test, y_test"
   ]
  },
  {
   "cell_type": "code",
   "execution_count": 39,
   "metadata": {
    "collapsed": false
   },
   "outputs": [
    {
     "name": "stdout",
     "output_type": "stream",
     "text": [
      "Downloading train-images-idx3-ubyte.gz\n",
      "Downloading train-labels-idx1-ubyte.gz\n",
      "Downloading t10k-images-idx3-ubyte.gz\n",
      "Downloading t10k-labels-idx1-ubyte.gz\n"
     ]
    }
   ],
   "source": [
    "X_train, y_train, X_val, y_val, _, _ = load_dataset()"
   ]
  },
  {
   "cell_type": "code",
   "execution_count": 59,
   "metadata": {
    "collapsed": false
   },
   "outputs": [
    {
     "data": {
      "text/plain": [
       "<matplotlib.image.AxesImage at 0x120c84d50>"
      ]
     },
     "execution_count": 59,
     "metadata": {},
     "output_type": "execute_result"
    },
    {
     "data": {
      "image/png": "[encoded data removed]",
      "text/plain": [
       "<matplotlib.figure.Figure at 0x120aa6310>"
      ]
     },
     "metadata": {},
     "output_type": "display_data"
    }
   ],
   "source": [
    "plt.figure(figsize=(2,2))\n",
    "plt.imshow(X_train[0][0], cmap=\"gray\")"
   ]
  },
  {
   "cell_type": "code",
   "execution_count": 65,
   "metadata": {
    "collapsed": false
   },
   "outputs": [],
   "source": [
    "def label_to_one_hot(y_mat, num_classes=10):\n",
    "    one_hots = np.zeros((y_mat.shape[0], num_classes))\n",
    "    for i in range(one_hots.shape[0]):\n",
    "        one_hots[i][y_mat[i]] = 1.\n",
    "    return one_hots"
   ]
  },
  {
   "cell_type": "markdown",
   "metadata": {},
   "source": [
    "The original input is in the form of (bs, 1, 28, 28), but since we're not using conv-nets, we want to flatten this into a 28*28 = 784 vector. So let's do that here. Let's also convert the labels to one-hot representations."
   ]
  },
  {
   "cell_type": "code",
   "execution_count": 88,
   "metadata": {
    "collapsed": false
   },
   "outputs": [],
   "source": [
    "X_train = X_train.reshape((X_train.shape[0], 28*28))\n",
    "X_val = X_val.reshape((X_val.shape[0], 28*28))\n",
    "y_train_onehot = label_to_one_hot(y_train)\n",
    "y_val_onehot = label_to_one_hot(y_val)"
   ]
  },
  {
   "cell_type": "code",
   "execution_count": 82,
   "metadata": {
    "collapsed": true
   },
   "outputs": [],
   "source": [
    "def iterator(X_mat, y_mat, bs, shuffle):\n",
    "    \"\"\"\n",
    "    Mini-batch iterator for the data\n",
    "    X_mat: X data\n",
    "    y_mat: y data\n",
    "    bs: batch size\n",
    "    shuffle: pre-shuffle the data before iterating?\n",
    "    \"\"\"\n",
    "    if shuffle:\n",
    "        idxs = [x for x in range(X_mat.shape[0])]\n",
    "        X_mat, y_mat = X_mat[idxs], y_mat[idxs]\n",
    "    b = 0\n",
    "    while True:\n",
    "        if b*bs >= X_mat.shape[0]:\n",
    "            break\n",
    "        yield X_mat[b*bs:(b+1)*bs], y_mat[b*bs:(b+1)*bs]\n",
    "        b += 1"
   ]
  },
  {
   "cell_type": "markdown",
   "metadata": {},
   "source": [
    "### Graph setup"
   ]
  },
  {
   "cell_type": "code",
   "execution_count": 21,
   "metadata": {
    "collapsed": true
   },
   "outputs": [],
   "source": [
    "x = tf.placeholder(dtype=tf.float32, shape=(None, 784))\n",
    "y = tf.placeholder(dtype=tf.float32, shape=(None, 10))"
   ]
  },
  {
   "cell_type": "code",
   "execution_count": 22,
   "metadata": {
    "collapsed": true
   },
   "outputs": [],
   "source": [
    "W = tf.Variable(tf.zeros([784, 10]))\n",
    "b = tf.Variable(tf.zeros([10]))"
   ]
  },
  {
   "cell_type": "markdown",
   "metadata": {},
   "source": [
    "It seems like -- unlike Theano -- to view these variables you have to run them within a 'session'. This also seems to imply that once the session finishes the variables are lost and go back to being 'unitialised'?"
   ]
  },
  {
   "cell_type": "code",
   "execution_count": 37,
   "metadata": {
    "collapsed": false
   },
   "outputs": [
    {
     "name": "stdout",
     "output_type": "stream",
     "text": [
      "[[ 0.  0.  0. ...,  0.  0.  0.]\n",
      " [ 0.  0.  0. ...,  0.  0.  0.]\n",
      " [ 0.  0.  0. ...,  0.  0.  0.]\n",
      " ..., \n",
      " [ 0.  0.  0. ...,  0.  0.  0.]\n",
      " [ 0.  0.  0. ...,  0.  0.  0.]\n",
      " [ 0.  0.  0. ...,  0.  0.  0.]]\n",
      "[ 0.  0.  0.  0.  0.  0.  0.  0.  0.  0.]\n"
     ]
    }
   ],
   "source": [
    "with tf.Session() as sess:\n",
    "    sess.run(W.initializer)\n",
    "    sess.run(b.initializer)\n",
    "    print sess.run(W)\n",
    "    print sess.run(b)"
   ]
  },
  {
   "cell_type": "markdown",
   "metadata": {},
   "source": [
    "`tf.initialize_all_variables()` is a helper function that initialises all of these variables."
   ]
  },
  {
   "cell_type": "markdown",
   "metadata": {},
   "source": [
    "$$ f(\\mathbf{x}) = softmax( \\mathbf{x}\\mathbf{W} + \\mathbf{b} )$$"
   ]
  },
  {
   "cell_type": "code",
   "execution_count": 69,
   "metadata": {
    "collapsed": false
   },
   "outputs": [],
   "source": [
    "preds = tf.nn.softmax( tf.add(tf.matmul(x,W), b) )"
   ]
  },
  {
   "cell_type": "code",
   "execution_count": 70,
   "metadata": {
    "collapsed": false
   },
   "outputs": [
    {
     "data": {
      "text/plain": [
       "TensorShape([Dimension(None), Dimension(10)])"
      ]
     },
     "execution_count": 70,
     "metadata": {},
     "output_type": "execute_result"
    }
   ],
   "source": [
    "preds.shape"
   ]
  },
  {
   "cell_type": "markdown",
   "metadata": {},
   "source": [
    "We wish to minimise the loss over all (x,y):\n",
    "\n",
    "$$ \\sum_{i=1}^{k} y_{i} \\ log \\ p(y|x)_{i}$$"
   ]
  },
  {
   "cell_type": "code",
   "execution_count": 75,
   "metadata": {
    "collapsed": false
   },
   "outputs": [],
   "source": [
    "cost = tf.reduce_mean(-tf.reduce_sum(y*tf.log(preds), reduction_indices=1))"
   ]
  },
  {
   "cell_type": "code",
   "execution_count": 80,
   "metadata": {
    "collapsed": false
   },
   "outputs": [],
   "source": [
    "learning_rate = 0.01\n",
    "optimiser = tf.train.GradientDescentOptimizer(learning_rate).minimize(cost)"
   ]
  },
  {
   "cell_type": "code",
   "execution_count": 98,
   "metadata": {
    "collapsed": false
   },
   "outputs": [
    {
     "name": "stdout",
     "output_type": "stream",
     "text": [
      "WARNING:tensorflow:From <ipython-input-98-8a1a76166dcb>:1: initialize_all_variables (from tensorflow.python.ops.variables) is deprecated and will be removed after 2017-03-02.\n",
      "Instructions for updating:\n",
      "Use `tf.global_variables_initializer` instead.\n",
      "epoch = 1, train loss = 0.824304, valid loss = 0.472991\n",
      "epoch = 2, train loss = 0.466413, valid loss = 0.387426\n",
      "epoch = 3, train loss = 0.410850, valid loss = 0.354316\n",
      "epoch = 4, train loss = 0.383362, valid loss = 0.335521\n",
      "epoch = 5, train loss = 0.366076, valid loss = 0.322951\n",
      "epoch = 6, train loss = 0.353871, valid loss = 0.313740\n",
      "epoch = 7, train loss = 0.344639, valid loss = 0.306589\n",
      "epoch = 8, train loss = 0.337328, valid loss = 0.300811\n",
      "epoch = 9, train loss = 0.331345, valid loss = 0.296005\n",
      "epoch = 10, train loss = 0.326328, valid loss = 0.291920\n"
     ]
    }
   ],
   "source": [
    "init = tf.initialize_all_variables()\n",
    "num_epochs = 10\n",
    "with tf.Session() as sess:\n",
    "    sess.run(init)\n",
    "    for epoch in range(num_epochs):\n",
    "        train_losses, valid_losses = [], []\n",
    "        for X_batch, y_batch in iterator(X_train, y_train_onehot, bs=32, shuffle=True):\n",
    "            _, c = sess.run([optimiser, cost], feed_dict={x: X_batch, y: y_batch})\n",
    "            train_losses.append(c)\n",
    "        for X_batch, y_batch in iterator(X_val, y_val_onehot, bs=32, shuffle=False):\n",
    "            _, c, valid_preds = sess.run([optimiser, cost, preds], feed_dict={x: X_batch, y: y_batch})\n",
    "            valid_losses.append(c)\n",
    "        print \"epoch = %i, train loss = %f, valid loss = %f\" % (epoch+1, np.mean(train_losses), np.mean(valid_losses))\n",
    "    # we now want to save the model\n",
    "    saver = tf.train.Saver()\n",
    "    saver.save(sess, 'my_model')"
   ]
  },
  {
   "cell_type": "markdown",
   "metadata": {},
   "source": [
    "Unless you use an interactive session, once the session is over, everything is gone. So if you are running this in a non-interactive context (i.e., a regular Python script), you want to save your model using the `tf.train.Saver()` class and reload it when you open up another session."
   ]
  },
  {
   "cell_type": "code",
   "execution_count": 100,
   "metadata": {
    "collapsed": false
   },
   "outputs": [
    {
     "name": "stdout",
     "output_type": "stream",
     "text": [
      "my_model.data-00000-of-00001\n",
      "my_model.index\n",
      "my_model.meta\n"
     ]
    }
   ],
   "source": [
    "%%bash\n",
    "ls my_model*"
   ]
  },
  {
   "cell_type": "code",
   "execution_count": 105,
   "metadata": {
    "collapsed": false
   },
   "outputs": [
    {
     "name": "stdout",
     "output_type": "stream",
     "text": [
      "model_checkpoint_path: \"my_model\"\n",
      "all_model_checkpoint_paths: \"my_model\"\n"
     ]
    }
   ],
   "source": [
    "%%bash\n",
    "cat checkpoint"
   ]
  },
  {
   "cell_type": "code",
   "execution_count": 115,
   "metadata": {
    "collapsed": false
   },
   "outputs": [
    {
     "name": "stdout",
     "output_type": "stream",
     "text": [
      "INFO:tensorflow:Restoring parameters from ./my_model\n",
      "mean accuracy on valid set: 0.921026\n"
     ]
    }
   ],
   "source": [
    "with tf.Session() as sess:\n",
    "    saver.restore(sess,tf.train.latest_checkpoint('./'))\n",
    "    accuracies = []\n",
    "    for X_batch, y_batch in iterator(X_val, y_val_onehot, bs=32, shuffle=False):\n",
    "        _, c, valid_preds = sess.run([optimiser, cost, preds], feed_dict={x: X_batch, y: y_batch})\n",
    "        acc = (np.argmax(valid_preds,axis=1) == np.argmax(y_batch,axis=1)).mean()\n",
    "        accuracies.append(acc)\n",
    "    print \"mean accuracy on valid set: %f\" % np.mean(accuracies)"
   ]
  },
  {
   "cell_type": "code",
   "execution_count": null,
   "metadata": {
    "collapsed": true
   },
   "outputs": [],
   "source": []
  }
 ],
 "metadata": {
  "kernelspec": {
   "display_name": "Python 2",
   "language": "python",
   "name": "python2"
  },
  "language_info": {
   "codemirror_mode": {
    "name": "ipython",
    "version": 2
   },
   "file_extension": ".py",
   "mimetype": "text/x-python",
   "name": "python",
   "nbconvert_exporter": "python",
   "pygments_lexer": "ipython2",
   "version": "2.7.13"
  }
 },
 "nbformat": 4,
 "nbformat_minor": 2
}
